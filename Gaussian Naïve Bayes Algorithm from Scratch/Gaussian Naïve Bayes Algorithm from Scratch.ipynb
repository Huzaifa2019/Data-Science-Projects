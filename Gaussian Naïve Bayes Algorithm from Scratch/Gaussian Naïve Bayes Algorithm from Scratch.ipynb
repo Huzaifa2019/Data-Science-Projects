{
 "cells": [
  {
   "cell_type": "markdown",
   "metadata": {
    "colab": {
     "base_uri": "https://localhost:8080/",
     "height": 87
    },
    "colab_type": "code",
    "id": "oRpPqVr1nv6O",
    "outputId": "e3bc7824-9211-4ae8-ee3f-f421a93b452d"
   },
   "source": [
    "**NAME: *HUZAIFA HASSAN KAKA***"
   ]
  },
  {
   "cell_type": "markdown",
   "metadata": {},
   "source": [
    "**SECTION: *C***"
   ]
  },
  {
   "cell_type": "markdown",
   "metadata": {},
   "source": [
    "**ROLL-NO: *17K-3604*** "
   ]
  },
  {
   "cell_type": "markdown",
   "metadata": {
    "colab_type": "text",
    "id": "M95fZ9gHn3m-"
   },
   "source": [
    "**IMPORT TRAINING DATASET**"
   ]
  },
  {
   "cell_type": "code",
   "execution_count": 1,
   "metadata": {
    "colab": {
     "base_uri": "https://localhost:8080/",
     "height": 176
    },
    "colab_type": "code",
    "id": "hkBJBJ_j4s4Q",
    "outputId": "0b078777-c102-4fd2-bac6-cf846bbeab37"
   },
   "outputs": [
    {
     "name": "stdout",
     "output_type": "stream",
     "text": [
      "Training Dataset\n",
      "        0        1        2        3        4        5        6        7   \\\n",
      "0  187.733  202.324  173.015  0.00316  0.00002  0.00168  0.00182  0.00504   \n",
      "1  186.163  197.724  177.584  0.00298  0.00002  0.00165  0.00175  0.00496   \n",
      "2  184.055  196.537  166.977  0.00258  0.00001  0.00134  0.00147  0.00403   \n",
      "3  237.226  247.326  225.227  0.00298  0.00001  0.00169  0.00182  0.00507   \n",
      "4  241.404  248.834  232.483  0.00281  0.00001  0.00157  0.00173  0.00470   \n",
      "\n",
      "        8      9   ...       13       14      15        16        17  \\\n",
      "0  0.01663  0.151  ...  0.02488  0.00265  26.310  0.396793  0.758324   \n",
      "1  0.01495  0.135  ...  0.02321  0.00231  26.822  0.326480  0.765623   \n",
      "2  0.01463  0.132  ...  0.02226  0.00257  26.453  0.306443  0.759203   \n",
      "3  0.01752  0.164  ...  0.03104  0.00740  22.736  0.305062  0.654172   \n",
      "4  0.01760  0.154  ...  0.03017  0.00675  23.145  0.457702  0.634267   \n",
      "\n",
      "         18        19        20        21  22  \n",
      "0 -6.006647  0.266892  2.382544  0.160691   1  \n",
      "1 -6.647379  0.201095  2.374073  0.130554   1  \n",
      "2 -7.044105  0.063412  2.361532  0.115730   1  \n",
      "3 -7.310550  0.098648  2.416838  0.095032   0  \n",
      "4 -6.793547  0.158266  2.256699  0.117399   0  \n",
      "\n",
      "[5 rows x 23 columns]\n"
     ]
    }
   ],
   "source": [
    "import pandas as pd\n",
    "trainData = pd.read_excel(\"parktraining.xlsx\", header = None)\n",
    "print('Training Dataset')\n",
    "print(trainData.head())"
   ]
  },
  {
   "cell_type": "markdown",
   "metadata": {
    "colab_type": "text",
    "id": "1WVkx89coEJE"
   },
   "source": [
    "**STEP 1: FEATURE SCALING ON TRAINING DATASET**"
   ]
  },
  {
   "cell_type": "code",
   "execution_count": 2,
   "metadata": {
    "colab": {
     "base_uri": "https://localhost:8080/",
     "height": 194
    },
    "colab_type": "code",
    "id": "x4Idxmt74utG",
    "outputId": "4daa3d72-8088-4933-af01-5f0046d3025b"
   },
   "outputs": [
    {
     "name": "stdout",
     "output_type": "stream",
     "text": [
      "\n",
      "After Feature Scaling (Training Dataset): \n",
      "         0         1         2         3         4         5         6   \\\n",
      "0  0.560636  0.204495  0.619129  0.047014  0.051383  0.048170  0.048232   \n",
      "1  0.551105  0.195105  0.645434  0.041296  0.051383  0.046724  0.044480   \n",
      "2  0.538307  0.192682  0.584367  0.028590  0.011858  0.031792  0.029475   \n",
      "3  0.861104  0.296357  0.919727  0.041296  0.011858  0.048651  0.048232   \n",
      "4  0.886468  0.299436  0.961501  0.035896  0.011858  0.042871  0.043408   \n",
      "\n",
      "         7         8         9   ...        13        14        15        16  \\\n",
      "0  0.048162  0.058883  0.050330  ...  0.072153  0.001088  0.831619  0.327180   \n",
      "1  0.046878  0.043450  0.037129  ...  0.061433  0.000000  0.855447  0.163120   \n",
      "2  0.031947  0.040511  0.034653  ...  0.055334  0.000832  0.838274  0.116368   \n",
      "3  0.048643  0.067059  0.061056  ...  0.111696  0.016287  0.665286  0.113145   \n",
      "4  0.042703  0.067793  0.052805  ...  0.106111  0.014208  0.684321  0.469298   \n",
      "\n",
      "         17        18        19        20        21  22  \n",
      "0  0.744862  0.297269  0.586688  0.323634  0.191963   1  \n",
      "1  0.774403  0.171238  0.438570  0.319188  0.125550   1  \n",
      "2  0.748420  0.093202  0.128626  0.312605  0.092883   1  \n",
      "3  0.323334  0.040792  0.207947  0.341634  0.047271   0  \n",
      "4  0.242774  0.142486  0.342156  0.257581  0.096561   0  \n",
      "\n",
      "[5 rows x 23 columns]\n"
     ]
    }
   ],
   "source": [
    "# STEP 1: FEATURE SCALING ON TRAINING DATASET\n",
    "\n",
    "trainRow, trainColumn = trainData.shape\n",
    "# trainRow = 156, trainColumn = 23\n",
    "\n",
    "for j in range(trainColumn - 1):\n",
    "  min = trainData.iloc[:,j].min()\n",
    "  max = trainData.iloc[:,j].max()\n",
    "  for i in range(trainRow):\n",
    "    trainData.iloc[i,j] = (trainData.iloc[i,j] - min) / (max - min)\n",
    "\n",
    "print(\"\\nAfter Feature Scaling (Training Dataset): \")\n",
    "print(trainData.head())"
   ]
  },
  {
   "cell_type": "markdown",
   "metadata": {
    "colab_type": "text",
    "id": "0OvCgn1UolyR"
   },
   "source": [
    "**STEP 2: PRIOR PROBABILITY**"
   ]
  },
  {
   "cell_type": "code",
   "execution_count": 3,
   "metadata": {
    "colab": {
     "base_uri": "https://localhost:8080/",
     "height": 123
    },
    "colab_type": "code",
    "id": "MzRJHkIDoWzn",
    "outputId": "4f1d25fd-6f4f-4012-bac3-070b5f06dc9c"
   },
   "outputs": [
    {
     "name": "stdout",
     "output_type": "stream",
     "text": [
      "1    114\n",
      "0     42\n",
      "Name: 22, dtype: int64\n",
      "1    0.730769\n",
      "0    0.269231\n",
      "Name: 22, dtype: float64\n"
     ]
    }
   ],
   "source": [
    "trainAns = trainData.iloc[:, -1]\n",
    "ans = trainAns.value_counts()\n",
    "print(ans)\n",
    "ansRatio = trainAns.value_counts(normalize = True)\n",
    "print(ansRatio)"
   ]
  },
  {
   "cell_type": "markdown",
   "metadata": {
    "colab_type": "text",
    "id": "gvFCBF2UspYu"
   },
   "source": [
    "**STEP 3: MEAN AND VARIANCE OF TRAINING DATESET**"
   ]
  },
  {
   "cell_type": "code",
   "execution_count": 4,
   "metadata": {
    "colab": {
     "base_uri": "https://localhost:8080/",
     "height": 425
    },
    "colab_type": "code",
    "id": "okWrR-IkoytG",
    "outputId": "bc6da231-748c-43b0-b353-d17d45175b03"
   },
   "outputs": [
    {
     "name": "stdout",
     "output_type": "stream",
     "text": [
      "FOR ZERO\n",
      "MEAN:\n",
      "[0.50955763 0.25171933 0.41860165 0.07716918 0.07246377 0.06513212\n",
      " 0.06680957 0.0651446  0.07687244 0.06812824 0.10674389 0.0722976\n",
      " 0.04569108 0.10680202 0.03391739 0.71372613 0.44960557 0.4650094\n",
      " 0.17256044 0.34261388 0.23083656 0.1262258 ]\n",
      "VARIANCE:\n",
      "[0.11538075 0.04457403 0.11776273 0.00437172 0.00351983 0.00278291\n",
      " 0.00262131 0.002783   0.00230196 0.002083   0.00400416 0.00177815\n",
      " 0.00072931 0.00400312 0.00410477 0.01350435 0.04925447 0.04376222\n",
      " 0.01336746 0.02288695 0.01907185 0.00850836]\n",
      "\n",
      "FOR ONE\n",
      "MEAN:\n",
      "[0.31289296 0.18365886 0.25341658 0.17897746 0.17793496 0.16043843\n",
      " 0.16440552 0.1604169  0.22325311 0.19928638 0.26690354 0.19992859\n",
      " 0.15257354 0.26693234 0.09953955 0.56307404 0.61339411 0.59905338\n",
      " 0.42503008 0.53250187 0.36430714 0.34274516]\n",
      "VARIANCE:\n",
      "[0.04121386 0.03918598 0.03548761 0.03343029 0.02464199 0.02969276\n",
      " 0.02998175 0.02968428 0.03742604 0.03330456 0.04816085 0.03191652\n",
      " 0.02222305 0.04814738 0.02507707 0.04599711 0.05598234 0.04451561\n",
      " 0.03650637 0.03260508 0.04326041 0.03318421]\n"
     ]
    }
   ],
   "source": [
    "print('FOR ZERO')\n",
    "meanZero = trainData[trainData.iloc[:,-1] == 0].mean()\n",
    "meanZero = meanZero.iloc[:-1]\n",
    "print('MEAN:')\n",
    "print(meanZero.values)\n",
    "varianceZero = trainData[trainData.iloc[:,-1] == 0].var()\n",
    "varianceZero = varianceZero.iloc[:-1]\n",
    "print('VARIANCE:')\n",
    "print(varianceZero.values)\n",
    "\n",
    "print('\\nFOR ONE')\n",
    "meanOne = trainData[trainData.iloc[:,-1] == 1].mean()\n",
    "meanOne = meanOne.iloc[:-1]\n",
    "print('MEAN:')\n",
    "print(meanOne.values)\n",
    "varianceOne = trainData[trainData.iloc[:,-1] == 1].var()\n",
    "varianceOne = varianceOne.iloc[:-1]\n",
    "print('VARIANCE:')\n",
    "print(varianceOne.values)\n"
   ]
  },
  {
   "cell_type": "markdown",
   "metadata": {
    "colab_type": "text",
    "id": "zMnhvTSdvy0b"
   },
   "source": [
    "**IMPORT TESTING DATASET**"
   ]
  },
  {
   "cell_type": "code",
   "execution_count": 5,
   "metadata": {
    "colab": {
     "base_uri": "https://localhost:8080/",
     "height": 176
    },
    "colab_type": "code",
    "id": "LOkr16d_ta8x",
    "outputId": "9baf2d3d-104d-4c58-dfac-5b856c4cfd89"
   },
   "outputs": [
    {
     "name": "stdout",
     "output_type": "stream",
     "text": [
      "Testing Dataset\n",
      "        0        1        2        3        4        5        6        7   \\\n",
      "0  119.992  157.302   74.997  0.00784  0.00007  0.00370  0.00554  0.01109   \n",
      "1  122.400  148.650  113.819  0.00968  0.00008  0.00465  0.00696  0.01394   \n",
      "2  116.682  131.111  111.555  0.01050  0.00009  0.00544  0.00781  0.01633   \n",
      "3  116.676  137.871  111.366  0.00997  0.00009  0.00502  0.00698  0.01505   \n",
      "4  116.014  141.781  110.655  0.01284  0.00011  0.00655  0.00908  0.01966   \n",
      "\n",
      "        8      9   ...       13       14      15        16        17  \\\n",
      "0  0.04374  0.426  ...  0.06545  0.02211  21.033  0.414783  0.815285   \n",
      "1  0.06134  0.626  ...  0.09403  0.01929  19.085  0.458359  0.819521   \n",
      "2  0.05233  0.482  ...  0.08270  0.01309  20.651  0.429895  0.825288   \n",
      "3  0.05492  0.517  ...  0.08771  0.01353  20.644  0.434969  0.819235   \n",
      "4  0.06425  0.584  ...  0.10470  0.01767  19.649  0.417356  0.823484   \n",
      "\n",
      "         18        19        20        21  22  \n",
      "0 -4.813031  0.266482  2.301442  0.284654   1  \n",
      "1 -4.075192  0.335590  2.486855  0.368674   1  \n",
      "2 -4.443179  0.311173  2.342259  0.332634   1  \n",
      "3 -4.117501  0.334147  2.405554  0.368975   1  \n",
      "4 -3.747787  0.234513  2.332180  0.410335   1  \n",
      "\n",
      "[5 rows x 23 columns]\n"
     ]
    }
   ],
   "source": [
    "testData = pd.read_excel(\"parktesting.xlsx\", header = None)\n",
    "print('Testing Dataset')\n",
    "print(testData.head())"
   ]
  },
  {
   "cell_type": "markdown",
   "metadata": {
    "colab_type": "text",
    "id": "HLoNZAvow0st"
   },
   "source": [
    "**STEP 4: FEATURE SCALING ON TESTING DATASET**"
   ]
  },
  {
   "cell_type": "code",
   "execution_count": 6,
   "metadata": {
    "colab": {
     "base_uri": "https://localhost:8080/",
     "height": 194
    },
    "colab_type": "code",
    "id": "hhN8ZqtLwTnr",
    "outputId": "7769fe6c-696f-4459-ed02-fa9519f13b87"
   },
   "outputs": [
    {
     "name": "stdout",
     "output_type": "stream",
     "text": [
      "\n",
      "After Feature Scaling (Testing Dataset): \n",
      "         0         1         2         3        4         5         6   \\\n",
      "0  0.275653  0.190120  0.070184  0.547920  0.60396  0.492883  0.558603   \n",
      "1  0.296619  0.153616  0.365865  0.714286  0.70297  0.661922  0.735661   \n",
      "2  0.246833  0.079618  0.348622  0.788427  0.80198  0.802491  0.841646   \n",
      "3  0.246781  0.108139  0.347182  0.740506  0.80198  0.727758  0.738155   \n",
      "4  0.241017  0.124636  0.341767  1.000000  1.00000  1.000000  1.000000   \n",
      "\n",
      "         7         8         9   ...        13        14        15        16  \\\n",
      "0  0.492299  0.625114  0.630314  ...  0.567112  0.563847  0.244117  0.229716   \n",
      "1  0.661137  0.946810  1.000000  ...  0.882321  0.489753  0.121555  0.363693   \n",
      "2  0.802725  0.782124  0.733826  ...  0.757362  0.326852  0.220083  0.276178   \n",
      "3  0.726896  0.829464  0.798521  ...  0.812617  0.338413  0.219643  0.291779   \n",
      "4  1.000000  1.000000  0.922366  ...  1.000000  0.447189  0.157040  0.237626   \n",
      "\n",
      "         17        18        19        20        21  22  \n",
      "0  0.954505  0.626144  0.403779  0.520937  0.621659   1  \n",
      "1  0.973771  0.772717  0.649267  0.630927  0.839187   1  \n",
      "2  1.000000  0.699616  0.562532  0.545150  0.745879   1  \n",
      "3  0.972470  0.764312  0.644141  0.582698  0.839966   1  \n",
      "4  0.991795  0.837757  0.290218  0.539171  0.947047   1  \n",
      "\n",
      "[5 rows x 23 columns]\n"
     ]
    }
   ],
   "source": [
    "# STEP 4: FEATURE SCALING ON TESTING DATASET\n",
    "\n",
    "testRow, testColumn = testData.shape\n",
    "\n",
    "for j in range(testColumn - 1):\n",
    "  min = testData.iloc[:,j].min()\n",
    "  max = testData.iloc[:,j].max()\n",
    "  for i in range(testRow):\n",
    "    testData.iloc[i,j] = (testData.iloc[i,j] - min) / (max - min)\n",
    "\n",
    "print(\"\\nAfter Feature Scaling (Testing Dataset): \")\n",
    "print(testData.head())"
   ]
  },
  {
   "cell_type": "markdown",
   "metadata": {
    "colab_type": "text",
    "id": "Hso5fMFxx4H-"
   },
   "source": [
    "**FORMULA AND CALCULATION**"
   ]
  },
  {
   "cell_type": "code",
   "execution_count": 7,
   "metadata": {
    "colab": {
     "base_uri": "https://localhost:8080/",
     "height": 1000
    },
    "colab_type": "code",
    "id": "3vUncjslxgLZ",
    "outputId": "1afc6aed-605b-4e93-c9b5-0aedd379a592"
   },
   "outputs": [
    {
     "name": "stdout",
     "output_type": "stream",
     "text": [
      "Probability of Zero: \n",
      "0     1.201229e-260\n",
      "1      0.000000e+00\n",
      "2      0.000000e+00\n",
      "3      0.000000e+00\n",
      "4      0.000000e+00\n",
      "5      0.000000e+00\n",
      "6      1.926360e+03\n",
      "7      5.967977e+06\n",
      "8      3.317235e-45\n",
      "9      4.771277e-81\n",
      "10     4.035729e-48\n",
      "11     2.450785e-77\n",
      "12     1.289376e+09\n",
      "13     4.225641e-08\n",
      "14     1.425102e+06\n",
      "15     1.364366e+00\n",
      "16     1.772885e-39\n",
      "17    2.117335e-205\n",
      "18     0.000000e+00\n",
      "19    4.253062e-302\n",
      "20    2.290418e-313\n",
      "21    4.908867e-255\n",
      "22    2.945617e-239\n",
      "23    1.161623e-197\n",
      "24     4.693235e-64\n",
      "25    5.681511e-224\n",
      "26     3.188126e-18\n",
      "27     8.948187e-21\n",
      "28     2.374131e+03\n",
      "29     6.499877e-18\n",
      "30     5.550300e+08\n",
      "31     3.788028e+07\n",
      "32     1.189482e+10\n",
      "33     1.126200e+04\n",
      "34     3.830743e+02\n",
      "35     1.380508e+06\n",
      "36     6.551481e-13\n",
      "37     1.866476e-03\n",
      "38     2.582653e+09\n",
      "dtype: float64\n",
      "\n",
      "Probability of One: \n",
      "0     1.578311e-08\n",
      "1     1.856506e-27\n",
      "2     1.077162e-22\n",
      "3     8.899847e-23\n",
      "4     4.558134e-46\n",
      "5     1.370054e-15\n",
      "6     6.883771e+05\n",
      "7     2.860833e+04\n",
      "8     3.306852e+03\n",
      "9     4.777175e+02\n",
      "10    2.897049e+02\n",
      "11    5.556706e+01\n",
      "12    1.468854e+02\n",
      "13    2.147506e+04\n",
      "14    1.626953e+04\n",
      "15    1.233512e+04\n",
      "16    3.857070e-01\n",
      "17    2.490665e-13\n",
      "18    6.969643e-24\n",
      "19    8.859477e-13\n",
      "20    1.434961e-15\n",
      "21    4.158053e-04\n",
      "22    1.525002e-04\n",
      "23    3.368352e-03\n",
      "24    1.150458e-01\n",
      "25    8.088839e-06\n",
      "26    1.925684e+03\n",
      "27    1.139920e+03\n",
      "28    1.513708e+04\n",
      "29    2.804291e+03\n",
      "30    9.861857e-04\n",
      "31    4.758138e-05\n",
      "32    2.982877e-04\n",
      "33    9.830529e-08\n",
      "34    3.773832e-09\n",
      "35    5.247288e-07\n",
      "36    2.370195e+01\n",
      "37    1.144124e+01\n",
      "38    9.052390e+00\n",
      "dtype: float64\n"
     ]
    }
   ],
   "source": [
    "import math\n",
    "# math.exp((-1) * ((val - mean)**2) / (2 * variance)) / ((2 * math.pi * variance) ** 0.5)\n",
    "\n",
    "# FOR ZERO\n",
    "resultZero = []\n",
    "for i in range(testRow):\n",
    "  resultZero.append(ansRatio[0])\n",
    "  for j in range(testColumn - 1):\n",
    "    resultZero[i] = resultZero[i] * (math.exp((-1) * ((testData.iloc[i,j] - meanZero[j])**2) / (2 * varianceZero[j])) / ((2 * math.pi * varianceZero[j]) ** 0.5))\n",
    "resultZero = pd.Series(resultZero)\n",
    "print('Probability of Zero: ')\n",
    "print(resultZero)\n",
    "\n",
    "# FOR ONE\n",
    "resultOne = []\n",
    "for i in range(testRow):\n",
    "  resultOne.append(ansRatio[1])\n",
    "  for j in range(testColumn - 1):\n",
    "    resultOne[i] = resultOne[i] * (math.exp((-1) * ((testData.iloc[i,j] - meanOne[j])**2) / (2 * varianceOne[j])) / ((2 * math.pi * varianceOne[j]) ** 0.5))\n",
    "resultOne = pd.Series(resultOne)\n",
    "print('\\nProbability of One: ')\n",
    "print(resultOne)\n",
    "\n"
   ]
  },
  {
   "cell_type": "markdown",
   "metadata": {
    "colab_type": "text",
    "id": "TuYBtGE4a04b"
   },
   "source": [
    "**COMPARISON**"
   ]
  },
  {
   "cell_type": "code",
   "execution_count": 8,
   "metadata": {
    "colab": {
     "base_uri": "https://localhost:8080/",
     "height": 745
    },
    "colab_type": "code",
    "id": "hHv6pSj0y6uq",
    "outputId": "da9d9c51-a6e7-471f-82a6-6f930f7fb2d0"
   },
   "outputs": [
    {
     "name": "stdout",
     "output_type": "stream",
     "text": [
      "Result:\n",
      "0     1\n",
      "1     1\n",
      "2     1\n",
      "3     1\n",
      "4     1\n",
      "5     1\n",
      "6     1\n",
      "7     0\n",
      "8     1\n",
      "9     1\n",
      "10    1\n",
      "11    1\n",
      "12    0\n",
      "13    1\n",
      "14    0\n",
      "15    1\n",
      "16    1\n",
      "17    1\n",
      "18    1\n",
      "19    1\n",
      "20    1\n",
      "21    1\n",
      "22    1\n",
      "23    1\n",
      "24    1\n",
      "25    1\n",
      "26    1\n",
      "27    1\n",
      "28    1\n",
      "29    1\n",
      "30    0\n",
      "31    0\n",
      "32    0\n",
      "33    0\n",
      "34    0\n",
      "35    0\n",
      "36    1\n",
      "37    1\n",
      "38    0\n",
      "dtype: int64\n"
     ]
    }
   ],
   "source": [
    "result = []\n",
    "for i in range(testRow):\n",
    "  if (resultZero[i] > resultOne[i]):\n",
    "    result.append(0)\n",
    "  else:\n",
    "    result.append(1)\n",
    "\n",
    "result = pd.Series(result)\n",
    "print('Result:')\n",
    "print(result)\n"
   ]
  },
  {
   "cell_type": "markdown",
   "metadata": {
    "colab_type": "text",
    "id": "xO4sD9jbfK_H"
   },
   "source": [
    "**COMAPARISON OF ACTUAL RESULT & CALCULATED RESULT**"
   ]
  },
  {
   "cell_type": "code",
   "execution_count": 9,
   "metadata": {
    "colab": {
     "base_uri": "https://localhost:8080/",
     "height": 34
    },
    "colab_type": "code",
    "id": "P-DjB2y-bYpD",
    "outputId": "dd64f77b-f811-4bba-ae39-0912e54cb294"
   },
   "outputs": [
    {
     "name": "stdout",
     "output_type": "stream",
     "text": [
      "Performance of classifier in the form of Accuracy is : 89.74358974358975\n"
     ]
    }
   ],
   "source": [
    "correct = 0\n",
    "for i in range(testRow):\n",
    "  if (result[i] == testData.iloc[i, -1]):\n",
    "    correct = correct + 1\n",
    "\n",
    "percentage = (correct / testRow) * 100\n",
    "print('Performance of classifier in the form of Accuracy is :', percentage)"
   ]
  }
 ],
 "metadata": {
  "colab": {
   "collapsed_sections": [],
   "name": "K173604(C) Q1-A3.ipynb",
   "provenance": []
  },
  "kernelspec": {
   "display_name": "Python 3",
   "language": "python",
   "name": "python3"
  },
  "language_info": {
   "codemirror_mode": {
    "name": "ipython",
    "version": 3
   },
   "file_extension": ".py",
   "mimetype": "text/x-python",
   "name": "python",
   "nbconvert_exporter": "python",
   "pygments_lexer": "ipython3",
   "version": "3.7.7"
  }
 },
 "nbformat": 4,
 "nbformat_minor": 1
}
